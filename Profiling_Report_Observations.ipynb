{
 "cells": [
  {
   "cell_type": "markdown",
   "metadata": {},
   "source": [
    "**Analysis of Profiling Report** \n",
    "\n",
    "Dataset Overview\n",
    "Our current dataset contains the following:\n",
    "- Number of variables: 5\n",
    "- Number of observations: 30\n",
    "- Missing Values: 0\n",
    "- Variable types:\n",
    "    - Datetime:1\n",
    "    - Numeric: 2\n",
    "    - Categorical: 2\n",
    "\n",
    "\n",
    "**Key Observations**\n",
    "- **High correlation:** `CPI Inflation` and `PCE Inflation` (0.981) & 'Core CPI Inflation' and 'Core PCE Inflation' (0.981)\n",
    "- **Mode:** For Core CPI, \"3.135922127\" was listed in 19 observsations. For Core PCE, 2.453878148 appeared 11 times\n",
    "- **Mean Values & Range:** We observe that for CPI Inflation, the range = [3.1674746,4.0315966] with a mean of 3.5013867 and for PCE this was [2.3379432,3.0835074] with a mean of 2.6931398\n",
    "\n",
    "\n",
    "**Reflections & Next Steps**\n",
    "- This report was very insightful, especially in its depiction of correlated variables. As our team moves to the analysis phase of our project, we will want to include other variables to gauge their correlationn with these inflation variables. Therefore, we will rely on a similar report at that stage to yield deeper insights. \n",
    "- This report was also useful in its quick representation of mean, mode, and range values per variable without us having to run such analysis in VScode and it will be interesting to oberserve this value as our data expands in the coming weeks.\n",
    "- Later on we will want to reduce the number of variables we are tracking and will likely focus only on PCE, as some of the data here is redundant. \n",
    "\n",
    "\n"
   ]
  }
 ],
 "metadata": {
  "language_info": {
   "name": "python"
  }
 },
 "nbformat": 4,
 "nbformat_minor": 2
}
